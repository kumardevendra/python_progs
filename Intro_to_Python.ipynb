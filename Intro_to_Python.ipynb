{
 "cells": [
  {
   "cell_type": "markdown",
   "metadata": {},
   "source": [
    "# Introduction to Python"
   ]
  },
  {
   "cell_type": "markdown",
   "metadata": {},
   "source": [
    "## Properties of Python\n",
    "- #### Vercetile \n",
    "- #### Generel Purpose Programming Language/Multiple Purpose\n",
    "- #### Object Oriented/Procedural   \n",
    "- #### Cross Platform\n",
    "- #### Rich libraries\n",
    "- #### Intention Code"
   ]
  },
  {
   "cell_type": "markdown",
   "metadata": {},
   "source": [
    "### 1. Vercetile :- \n",
    "- Most and very important property of Python is that it is vercetile and it have been asked in many interviews.\n",
    "- Now when we say Python is vercetile language that means it is both interpreted and compiled.\n",
    "- Interpreted : Like HTML, we don't need to compile the Python program (.py format) before executing it.\n",
    "### Source Code (.py) > Output\n",
    "- Compiled : Like Java, we can compile the Python source code which converts it into some intermediate machine language/binary code (.pyc format)\n",
    "### Source Code (.py) > Compiled Code (.pyc) > Output"
   ]
  },
  {
   "cell_type": "markdown",
   "metadata": {},
   "source": [
    "### 2. Generel Purpose Programming Language :-\n",
    "Python is a general-purpose language means that it can be used to build just about anything. Python is extremely useful for backend web development, scientific computing, artificial intelligence, and data analysis."
   ]
  },
  {
   "cell_type": "markdown",
   "metadata": {},
   "source": [
    "### 3. Object Oriented/Procedural :-\n",
    "Like other general purpose languages, python is also an object-oriented language since its beginning. Python is an object-oriented programming language. It allows us to develop applications using an Object Oriented approach. In Python, we can easily create and use classes and objects.\n",
    "\n",
    "Major principles of object-oriented programming system are given below.\n",
    "\n",
    "- Object\n",
    "- Class\n",
    "- Method\n",
    "- Inheritance\n",
    "- Polymorphism\n",
    "- Data Abstraction\n",
    "- Encapsulation"
   ]
  },
  {
   "cell_type": "markdown",
   "metadata": {},
   "source": [
    "### 4. Cross Platform :-\n",
    "Python is a cross-platform language: a Python program written on a Macintosh computer will run on a Linux system and vice versa. Python programs can run on a Windows computer, as long as the Windows machine has the Python interpreter installed (most other operating systems come with Python pre-installed)."
   ]
  },
  {
   "cell_type": "markdown",
   "metadata": {},
   "source": [
    "### 5. Rich Libraries :-\n",
    "Python is full of rich libraries. We can import those libraries according to our needs and use in our code. These libraries are made by Python community developers and some libraries are the core libraries."
   ]
  },
  {
   "cell_type": "markdown",
   "metadata": {},
   "source": [
    "### 6. Intention Code :-\n",
    "Python code does not use any curly brackets (like Java, C/C++). It uses tab for intention."
   ]
  }
 ],
 "metadata": {
  "kernelspec": {
   "display_name": "Python 3",
   "language": "python",
   "name": "python3"
  },
  "language_info": {
   "codemirror_mode": {
    "name": "ipython",
    "version": 3
   },
   "file_extension": ".py",
   "mimetype": "text/x-python",
   "name": "python",
   "nbconvert_exporter": "python",
   "pygments_lexer": "ipython3",
   "version": "3.7.4"
  }
 },
 "nbformat": 4,
 "nbformat_minor": 4
}
